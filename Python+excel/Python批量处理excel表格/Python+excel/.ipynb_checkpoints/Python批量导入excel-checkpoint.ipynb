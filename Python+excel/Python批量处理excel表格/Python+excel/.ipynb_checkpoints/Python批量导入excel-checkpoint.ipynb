{
 "cells": [
  {
   "cell_type": "code",
   "execution_count": 1,
   "metadata": {},
   "outputs": [],
   "source": [
    "import os\n",
    "import time\n",
    "import pandas as pd"
   ]
  },
  {
   "cell_type": "code",
   "execution_count": 3,
   "metadata": {},
   "outputs": [],
   "source": [
    "os.chdir('C:\\\\Users\\\\Lenovo\\\\Desktop\\\\Python批量处理excel表格\\\\Python+excel\\\\源数据128张表格')"
   ]
  },
  {
   "cell_type": "code",
   "execution_count": 4,
   "metadata": {},
   "outputs": [
    {
     "data": {
      "text/html": [
       "<div>\n",
       "<style scoped>\n",
       "    .dataframe tbody tr th:only-of-type {\n",
       "        vertical-align: middle;\n",
       "    }\n",
       "\n",
       "    .dataframe tbody tr th {\n",
       "        vertical-align: top;\n",
       "    }\n",
       "\n",
       "    .dataframe thead th {\n",
       "        text-align: right;\n",
       "    }\n",
       "</style>\n",
       "<table border=\"1\" class=\"dataframe\">\n",
       "  <thead>\n",
       "    <tr style=\"text-align: right;\">\n",
       "      <th></th>\n",
       "      <th>日期</th>\n",
       "      <th>转化率</th>\n",
       "      <th>访客数</th>\n",
       "      <th>三级类目</th>\n",
       "      <th>客单价</th>\n",
       "      <th>品牌</th>\n",
       "    </tr>\n",
       "  </thead>\n",
       "  <tbody>\n",
       "    <tr>\n",
       "      <th>0</th>\n",
       "      <td>2019-08</td>\n",
       "      <td>0.025806</td>\n",
       "      <td>221402</td>\n",
       "      <td>绑钩器</td>\n",
       "      <td>33.284283</td>\n",
       "      <td>品牌-17</td>\n",
       "    </tr>\n",
       "    <tr>\n",
       "      <th>1</th>\n",
       "      <td>2019-08</td>\n",
       "      <td>0.019638</td>\n",
       "      <td>14074</td>\n",
       "      <td>绑钩器</td>\n",
       "      <td>233.995330</td>\n",
       "      <td>品牌-12</td>\n",
       "    </tr>\n",
       "    <tr>\n",
       "      <th>2</th>\n",
       "      <td>2019-08</td>\n",
       "      <td>0.065407</td>\n",
       "      <td>75392</td>\n",
       "      <td>绑钩器</td>\n",
       "      <td>11.938785</td>\n",
       "      <td>品牌-20</td>\n",
       "    </tr>\n",
       "    <tr>\n",
       "      <th>3</th>\n",
       "      <td>2019-08</td>\n",
       "      <td>0.015905</td>\n",
       "      <td>85529</td>\n",
       "      <td>绑钩器</td>\n",
       "      <td>41.059966</td>\n",
       "      <td>品牌-13</td>\n",
       "    </tr>\n",
       "    <tr>\n",
       "      <th>4</th>\n",
       "      <td>2019-08</td>\n",
       "      <td>0.039033</td>\n",
       "      <td>23839</td>\n",
       "      <td>绑钩器</td>\n",
       "      <td>44.502008</td>\n",
       "      <td>品牌-1</td>\n",
       "    </tr>\n",
       "  </tbody>\n",
       "</table>\n",
       "</div>"
      ],
      "text/plain": [
       "        日期       转化率     访客数 三级类目         客单价     品牌\n",
       "0  2019-08  0.025806  221402  绑钩器   33.284283  品牌-17\n",
       "1  2019-08  0.019638   14074  绑钩器  233.995330  品牌-12\n",
       "2  2019-08  0.065407   75392  绑钩器   11.938785  品牌-20\n",
       "3  2019-08  0.015905   85529  绑钩器   41.059966  品牌-13\n",
       "4  2019-08  0.039033   23839  绑钩器   44.502008   品牌-1"
      ]
     },
     "execution_count": 4,
     "metadata": {},
     "output_type": "execute_result"
    }
   ],
   "source": [
    "name = '垂钓装备&绑钩器.xlsx'\n",
    "df = pd.read_excel(name)\n",
    "df.head()"
   ]
  },
  {
   "cell_type": "code",
   "execution_count": 5,
   "metadata": {},
   "outputs": [
    {
     "data": {
      "text/plain": [
       "array(['2019-08', '2019-07', '2019-06', '2019-05', '2019-04', '2019-03',\n",
       "       '2019-02', '2019-01', '2018-12', '2018-11', '2018-10', '2018-09'],\n",
       "      dtype=object)"
      ]
     },
     "execution_count": 5,
     "metadata": {},
     "output_type": "execute_result"
    }
   ],
   "source": [
    "df['日期'].unique()"
   ]
  },
  {
   "cell_type": "code",
   "execution_count": 6,
   "metadata": {},
   "outputs": [
    {
     "data": {
      "text/html": [
       "<div>\n",
       "<style scoped>\n",
       "    .dataframe tbody tr th:only-of-type {\n",
       "        vertical-align: middle;\n",
       "    }\n",
       "\n",
       "    .dataframe tbody tr th {\n",
       "        vertical-align: top;\n",
       "    }\n",
       "\n",
       "    .dataframe thead th {\n",
       "        text-align: right;\n",
       "    }\n",
       "</style>\n",
       "<table border=\"1\" class=\"dataframe\">\n",
       "  <thead>\n",
       "    <tr style=\"text-align: right;\">\n",
       "      <th></th>\n",
       "      <th>日期</th>\n",
       "      <th>转化率</th>\n",
       "      <th>访客数</th>\n",
       "      <th>三级类目</th>\n",
       "      <th>客单价</th>\n",
       "      <th>品牌</th>\n",
       "      <th>销售额</th>\n",
       "    </tr>\n",
       "  </thead>\n",
       "  <tbody>\n",
       "    <tr>\n",
       "      <th>0</th>\n",
       "      <td>2019-08</td>\n",
       "      <td>0.025806</td>\n",
       "      <td>221402</td>\n",
       "      <td>绑钩器</td>\n",
       "      <td>33.284283</td>\n",
       "      <td>品牌-17</td>\n",
       "      <td>190167.455681</td>\n",
       "    </tr>\n",
       "    <tr>\n",
       "      <th>1</th>\n",
       "      <td>2019-08</td>\n",
       "      <td>0.019638</td>\n",
       "      <td>14074</td>\n",
       "      <td>绑钩器</td>\n",
       "      <td>233.995330</td>\n",
       "      <td>品牌-12</td>\n",
       "      <td>64673.807815</td>\n",
       "    </tr>\n",
       "    <tr>\n",
       "      <th>2</th>\n",
       "      <td>2019-08</td>\n",
       "      <td>0.065407</td>\n",
       "      <td>75392</td>\n",
       "      <td>绑钩器</td>\n",
       "      <td>11.938785</td>\n",
       "      <td>品牌-20</td>\n",
       "      <td>58871.997672</td>\n",
       "    </tr>\n",
       "    <tr>\n",
       "      <th>3</th>\n",
       "      <td>2019-08</td>\n",
       "      <td>0.015905</td>\n",
       "      <td>85529</td>\n",
       "      <td>绑钩器</td>\n",
       "      <td>41.059966</td>\n",
       "      <td>品牌-13</td>\n",
       "      <td>55856.842507</td>\n",
       "    </tr>\n",
       "    <tr>\n",
       "      <th>4</th>\n",
       "      <td>2019-08</td>\n",
       "      <td>0.039033</td>\n",
       "      <td>23839</td>\n",
       "      <td>绑钩器</td>\n",
       "      <td>44.502008</td>\n",
       "      <td>品牌-1</td>\n",
       "      <td>41409.600947</td>\n",
       "    </tr>\n",
       "  </tbody>\n",
       "</table>\n",
       "</div>"
      ],
      "text/plain": [
       "        日期       转化率     访客数 三级类目         客单价     品牌            销售额\n",
       "0  2019-08  0.025806  221402  绑钩器   33.284283  品牌-17  190167.455681\n",
       "1  2019-08  0.019638   14074  绑钩器  233.995330  品牌-12   64673.807815\n",
       "2  2019-08  0.065407   75392  绑钩器   11.938785  品牌-20   58871.997672\n",
       "3  2019-08  0.015905   85529  绑钩器   41.059966  品牌-13   55856.842507\n",
       "4  2019-08  0.039033   23839  绑钩器   44.502008   品牌-1   41409.600947"
      ]
     },
     "execution_count": 6,
     "metadata": {},
     "output_type": "execute_result"
    }
   ],
   "source": [
    "df['销售额'] = df['访客数'] * df['转化率'] * df['客单价']\n",
    "df.head()"
   ]
  },
  {
   "cell_type": "code",
   "execution_count": 7,
   "metadata": {},
   "outputs": [
    {
     "data": {
      "text/html": [
       "<div>\n",
       "<style scoped>\n",
       "    .dataframe tbody tr th:only-of-type {\n",
       "        vertical-align: middle;\n",
       "    }\n",
       "\n",
       "    .dataframe tbody tr th {\n",
       "        vertical-align: top;\n",
       "    }\n",
       "\n",
       "    .dataframe thead th {\n",
       "        text-align: right;\n",
       "    }\n",
       "</style>\n",
       "<table border=\"1\" class=\"dataframe\">\n",
       "  <thead>\n",
       "    <tr style=\"text-align: right;\">\n",
       "      <th></th>\n",
       "      <th>品牌</th>\n",
       "      <th>销售额</th>\n",
       "    </tr>\n",
       "  </thead>\n",
       "  <tbody>\n",
       "    <tr>\n",
       "      <th>0</th>\n",
       "      <td>品牌-1</td>\n",
       "      <td>529837.745358</td>\n",
       "    </tr>\n",
       "    <tr>\n",
       "      <th>1</th>\n",
       "      <td>品牌-10</td>\n",
       "      <td>217976.661847</td>\n",
       "    </tr>\n",
       "    <tr>\n",
       "      <th>2</th>\n",
       "      <td>品牌-11</td>\n",
       "      <td>327093.079507</td>\n",
       "    </tr>\n",
       "    <tr>\n",
       "      <th>3</th>\n",
       "      <td>品牌-12</td>\n",
       "      <td>485635.295843</td>\n",
       "    </tr>\n",
       "    <tr>\n",
       "      <th>4</th>\n",
       "      <td>品牌-13</td>\n",
       "      <td>438391.195855</td>\n",
       "    </tr>\n",
       "  </tbody>\n",
       "</table>\n",
       "</div>"
      ],
      "text/plain": [
       "      品牌            销售额\n",
       "0   品牌-1  529837.745358\n",
       "1  品牌-10  217976.661847\n",
       "2  品牌-11  327093.079507\n",
       "3  品牌-12  485635.295843\n",
       "4  品牌-13  438391.195855"
      ]
     },
     "execution_count": 7,
     "metadata": {},
     "output_type": "execute_result"
    }
   ],
   "source": [
    "df_sum = df.groupby('品牌')['销售额'].sum().reset_index()\n",
    "df_sum.head()"
   ]
  },
  {
   "cell_type": "code",
   "execution_count": 8,
   "metadata": {},
   "outputs": [
    {
     "data": {
      "text/html": [
       "<div>\n",
       "<style scoped>\n",
       "    .dataframe tbody tr th:only-of-type {\n",
       "        vertical-align: middle;\n",
       "    }\n",
       "\n",
       "    .dataframe tbody tr th {\n",
       "        vertical-align: top;\n",
       "    }\n",
       "\n",
       "    .dataframe thead th {\n",
       "        text-align: right;\n",
       "    }\n",
       "</style>\n",
       "<table border=\"1\" class=\"dataframe\">\n",
       "  <thead>\n",
       "    <tr style=\"text-align: right;\">\n",
       "      <th></th>\n",
       "      <th>品牌</th>\n",
       "      <th>销售额</th>\n",
       "      <th>行业</th>\n",
       "    </tr>\n",
       "  </thead>\n",
       "  <tbody>\n",
       "    <tr>\n",
       "      <th>0</th>\n",
       "      <td>品牌-1</td>\n",
       "      <td>529837.745358</td>\n",
       "      <td>垂钓装备&amp;绑钩器</td>\n",
       "    </tr>\n",
       "    <tr>\n",
       "      <th>1</th>\n",
       "      <td>品牌-10</td>\n",
       "      <td>217976.661847</td>\n",
       "      <td>垂钓装备&amp;绑钩器</td>\n",
       "    </tr>\n",
       "    <tr>\n",
       "      <th>2</th>\n",
       "      <td>品牌-11</td>\n",
       "      <td>327093.079507</td>\n",
       "      <td>垂钓装备&amp;绑钩器</td>\n",
       "    </tr>\n",
       "    <tr>\n",
       "      <th>3</th>\n",
       "      <td>品牌-12</td>\n",
       "      <td>485635.295843</td>\n",
       "      <td>垂钓装备&amp;绑钩器</td>\n",
       "    </tr>\n",
       "    <tr>\n",
       "      <th>4</th>\n",
       "      <td>品牌-13</td>\n",
       "      <td>438391.195855</td>\n",
       "      <td>垂钓装备&amp;绑钩器</td>\n",
       "    </tr>\n",
       "  </tbody>\n",
       "</table>\n",
       "</div>"
      ],
      "text/plain": [
       "      品牌            销售额        行业\n",
       "0   品牌-1  529837.745358  垂钓装备&绑钩器\n",
       "1  品牌-10  217976.661847  垂钓装备&绑钩器\n",
       "2  品牌-11  327093.079507  垂钓装备&绑钩器\n",
       "3  品牌-12  485635.295843  垂钓装备&绑钩器\n",
       "4  品牌-13  438391.195855  垂钓装备&绑钩器"
      ]
     },
     "execution_count": 8,
     "metadata": {},
     "output_type": "execute_result"
    }
   ],
   "source": [
    "df_sum['行业'] = name.replace('.xlsx','')\n",
    "df_sum.head()"
   ]
  },
  {
   "cell_type": "code",
   "execution_count": null,
   "metadata": {},
   "outputs": [],
   "source": []
  }
 ],
 "metadata": {
  "kernelspec": {
   "display_name": "Python 3",
   "language": "python",
   "name": "python3"
  },
  "language_info": {
   "codemirror_mode": {
    "name": "ipython",
    "version": 3
   },
   "file_extension": ".py",
   "mimetype": "text/x-python",
   "name": "python",
   "nbconvert_exporter": "python",
   "pygments_lexer": "ipython3",
   "version": "3.7.6"
  }
 },
 "nbformat": 4,
 "nbformat_minor": 4
}
